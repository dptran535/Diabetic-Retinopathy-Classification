{
 "cells": [
  {
   "cell_type": "markdown",
   "metadata": {},
   "source": [
    "# Imports"
   ]
  },
  {
   "cell_type": "code",
   "execution_count": 1,
   "metadata": {},
   "outputs": [],
   "source": [
    "import pandas as pd\n",
    "import numpy as np\n",
    "import matplotlib.pyplot as plt\n",
    "import seaborn as sns\n",
    "import os\n",
    "import cv2\n",
    "\n",
    "from sklearn.model_selection import train_test_split\n",
    "from sklearn.preprocessing import StandardScaler\n",
    "from sklearn.metrics import cohen_kappa_score\n",
    "\n",
    "from tensorflow.keras.models import Sequential\n",
    "from tensorflow.keras import layers\n",
    "from tensorflow.keras.layers import Dense, Dropout, Flatten, Conv2D, MaxPooling2D\n",
    "from tensorflow.keras import utils\n",
    "from tensorflow.keras.datasets import mnist\n",
    "from tensorflow.keras.callbacks import EarlyStopping\n",
    "\n",
    "import tensorflow as tf\n",
    "import tensorflow_hub as hub\n",
    "from tensorflow.keras.optimizers import RMSprop\n",
    "from tensorflow.keras.preprocessing.image import ImageDataGenerator"
   ]
  },
  {
   "cell_type": "markdown",
   "metadata": {},
   "source": [
    "# Helper Functions"
   ]
  },
  {
   "cell_type": "code",
   "execution_count": 11,
   "metadata": {},
   "outputs": [],
   "source": [
    "# Quadratic Weighted Kappa function\n",
    "def Cmatrix(rater_a, rater_b, min_rating=None, max_rating=None):\n",
    "    \"\"\"\n",
    "    Returns the confusion matrix between rater's ratings\n",
    "    \"\"\"\n",
    "    assert(len(rater_a) == len(rater_b))\n",
    "    if min_rating is None:\n",
    "        min_rating = min(rater_a + rater_b)\n",
    "    if max_rating is None:\n",
    "        max_rating = max(rater_a + rater_b)\n",
    "    num_ratings = int(max_rating - min_rating + 1)\n",
    "    conf_mat = [[0 for i in range(num_ratings)]\n",
    "                for j in range(num_ratings)]\n",
    "    for a, b in zip(rater_a, rater_b):\n",
    "        conf_mat[a - min_rating][b - min_rating] += 1\n",
    "    return conf_mat\n",
    "\n",
    "\n",
    "def histogram(ratings, min_rating=None, max_rating=None):\n",
    "    \"\"\"\n",
    "    Returns the counts of each type of rating that a rater made\n",
    "    \"\"\"\n",
    "    if min_rating is None:\n",
    "        min_rating = min(ratings)\n",
    "    if max_rating is None:\n",
    "        max_rating = max(ratings)\n",
    "    num_ratings = int(max_rating - min_rating + 1)\n",
    "    hist_ratings = [0 for x in range(num_ratings)]\n",
    "    for r in ratings:\n",
    "        hist_ratings[r - min_rating] += 1\n",
    "    return hist_ratings\n",
    "\n",
    "def quadratic_weighted_kappa(y, y_pred):\n",
    "    \"\"\"\n",
    "    Calculates the quadratic weighted kappa\n",
    "    axquadratic_weighted_kappa calculates the quadratic weighted kappa\n",
    "    value, which is a measure of inter-rater agreement between two raters\n",
    "    that provide discrete numeric ratings.  Potential values range from -1\n",
    "    (representing complete disagreement) to 1 (representing complete\n",
    "    agreement).  A kappa value of 0 is expected if all agreement is due to\n",
    "    chance.\n",
    "    quadratic_weighted_kappa(rater_a, rater_b), where rater_a and rater_b\n",
    "    each correspond to a list of integer ratings.  These lists must have the\n",
    "    same length.\n",
    "    The ratings should be integers, and it is assumed that they contain\n",
    "    the complete range of possible ratings.\n",
    "    quadratic_weighted_kappa(X, min_rating, max_rating), where min_rating\n",
    "    is the minimum possible rating, and max_rating is the maximum possible\n",
    "    rating\n",
    "    \"\"\"\n",
    "    rater_a = y\n",
    "    rater_b = y_pred\n",
    "    min_rating=None\n",
    "    max_rating=None\n",
    "    rater_a = np.array(rater_a, dtype=int)\n",
    "    rater_b = np.array(rater_b, dtype=int)\n",
    "    assert(len(rater_a) == len(rater_b))\n",
    "    if min_rating is None:\n",
    "        min_rating = min(min(rater_a), min(rater_b))\n",
    "    if max_rating is None:\n",
    "        max_rating = max(max(rater_a), max(rater_b))\n",
    "    conf_mat = Cmatrix(rater_a, rater_b,\n",
    "                                min_rating, max_rating)\n",
    "    num_ratings = len(conf_mat)\n",
    "    num_scored_items = float(len(rater_a))\n",
    "\n",
    "    hist_rater_a = histogram(rater_a, min_rating, max_rating)\n",
    "    hist_rater_b = histogram(rater_b, min_rating, max_rating)\n",
    "\n",
    "    numerator = 0.0\n",
    "    denominator = 0.0\n",
    "\n",
    "    for i in range(num_ratings):\n",
    "        for j in range(num_ratings):\n",
    "            expected_count = (hist_rater_a[i] * hist_rater_b[j]\n",
    "                              / num_scored_items)\n",
    "            d = pow(i - j, 2.0) / pow(num_ratings - 1, 2.0)\n",
    "            numerator += d * conf_mat[i][j] / num_scored_items\n",
    "            denominator += d * expected_count / num_scored_items\n",
    "\n",
    "    return (1.0 - numerator / denominator)"
   ]
  },
  {
   "cell_type": "markdown",
   "metadata": {},
   "source": [
    "# Loading In Data"
   ]
  },
  {
   "cell_type": "code",
   "execution_count": 2,
   "metadata": {},
   "outputs": [],
   "source": [
    "# load images and labels\n",
    "train = pd.read_csv('./train.csv')\n",
    "images = np.load('blindness_images.npy')"
   ]
  },
  {
   "cell_type": "code",
   "execution_count": 3,
   "metadata": {
    "scrolled": true
   },
   "outputs": [
    {
     "data": {
      "text/plain": [
       "(3662, 128, 128, 3)"
      ]
     },
     "execution_count": 3,
     "metadata": {},
     "output_type": "execute_result"
    }
   ],
   "source": [
    "images.shape"
   ]
  },
  {
   "cell_type": "markdown",
   "metadata": {},
   "source": [
    "# Train Test Split"
   ]
  },
  {
   "cell_type": "code",
   "execution_count": 8,
   "metadata": {},
   "outputs": [],
   "source": [
    "X = images\n",
    "y = train['diagnosis']\n",
    "\n",
    "X_train, X_test, y_train, y_test = train_test_split(X, y, stratify = y, random_state = 42)\n",
    "\n",
    "y_train = utils.to_categorical(y_train, 5)\n",
    "y_test = utils.to_categorical(y_test, 5)"
   ]
  },
  {
   "cell_type": "markdown",
   "metadata": {},
   "source": [
    "# Transfer Learning Model from Tensorflow, trained by Google"
   ]
  },
  {
   "cell_type": "markdown",
   "metadata": {},
   "source": [
    "From Tensorflow Hub, we are going to use an EfficientNet model that has been pretrained by Google on the ImageNet-21k dataset. The dataset contains over 14 million images with 21,000 classes. Because this model has been pretrained, I assume that it should perform better as it may have learned underlying patterns existing in images like specific shapes and edges.\n",
    "\n",
    "[ImageNet](https://www.image-net.org/index.php)"
   ]
  },
  {
   "cell_type": "code",
   "execution_count": 10,
   "metadata": {
    "scrolled": true
   },
   "outputs": [
    {
     "name": "stdout",
     "output_type": "stream",
     "text": [
      "Epoch 1/100\n",
      "11/11 [==============================] - 14s 434ms/step - loss: 2.0470 - accuracy: 0.3536 - val_loss: 1.5061 - val_accuracy: 0.4858\n",
      "Epoch 2/100\n",
      "11/11 [==============================] - 2s 192ms/step - loss: 1.2925 - accuracy: 0.5914 - val_loss: 1.1637 - val_accuracy: 0.6485\n",
      "Epoch 3/100\n",
      "11/11 [==============================] - 2s 194ms/step - loss: 0.9614 - accuracy: 0.6988 - val_loss: 0.9048 - val_accuracy: 0.6910\n",
      "Epoch 4/100\n",
      "11/11 [==============================] - 2s 188ms/step - loss: 0.7941 - accuracy: 0.7185 - val_loss: 0.8410 - val_accuracy: 0.6998\n",
      "Epoch 5/100\n",
      "11/11 [==============================] - 2s 189ms/step - loss: 0.7202 - accuracy: 0.7531 - val_loss: 0.8093 - val_accuracy: 0.7238\n",
      "Epoch 6/100\n",
      "11/11 [==============================] - 2s 201ms/step - loss: 0.6764 - accuracy: 0.7600 - val_loss: 0.7576 - val_accuracy: 0.7249\n",
      "Epoch 7/100\n",
      "11/11 [==============================] - 2s 205ms/step - loss: 0.6344 - accuracy: 0.7749 - val_loss: 0.7350 - val_accuracy: 0.7282\n",
      "Epoch 8/100\n",
      "11/11 [==============================] - 2s 192ms/step - loss: 0.6068 - accuracy: 0.7862 - val_loss: 0.7215 - val_accuracy: 0.7369\n",
      "Epoch 9/100\n",
      "11/11 [==============================] - 2s 191ms/step - loss: 0.5914 - accuracy: 0.7862 - val_loss: 0.7032 - val_accuracy: 0.7456\n",
      "Epoch 10/100\n",
      "11/11 [==============================] - 2s 187ms/step - loss: 0.5759 - accuracy: 0.7881 - val_loss: 0.6977 - val_accuracy: 0.7456\n",
      "Epoch 11/100\n",
      "11/11 [==============================] - 2s 190ms/step - loss: 0.5657 - accuracy: 0.7983 - val_loss: 0.6975 - val_accuracy: 0.7456\n",
      "Epoch 12/100\n",
      "11/11 [==============================] - 2s 191ms/step - loss: 0.5471 - accuracy: 0.8066 - val_loss: 0.6769 - val_accuracy: 0.7598\n",
      "Epoch 13/100\n",
      "11/11 [==============================] - 2s 195ms/step - loss: 0.5277 - accuracy: 0.8125 - val_loss: 0.6620 - val_accuracy: 0.7544\n",
      "Epoch 14/100\n",
      "11/11 [==============================] - 2s 209ms/step - loss: 0.5193 - accuracy: 0.8157 - val_loss: 0.6547 - val_accuracy: 0.7555\n",
      "Epoch 15/100\n",
      "11/11 [==============================] - 2s 211ms/step - loss: 0.5045 - accuracy: 0.8197 - val_loss: 0.6553 - val_accuracy: 0.7587\n",
      "Epoch 16/100\n",
      "11/11 [==============================] - 2s 189ms/step - loss: 0.5012 - accuracy: 0.8201 - val_loss: 0.6462 - val_accuracy: 0.7533\n",
      "Epoch 17/100\n",
      "11/11 [==============================] - 2s 188ms/step - loss: 0.4936 - accuracy: 0.8245 - val_loss: 0.6425 - val_accuracy: 0.7642\n",
      "Epoch 18/100\n",
      "11/11 [==============================] - 2s 197ms/step - loss: 0.4858 - accuracy: 0.8292 - val_loss: 0.6387 - val_accuracy: 0.7762\n",
      "Epoch 19/100\n",
      "11/11 [==============================] - 2s 193ms/step - loss: 0.4802 - accuracy: 0.8285 - val_loss: 0.6359 - val_accuracy: 0.7697\n",
      "Epoch 20/100\n",
      "11/11 [==============================] - 2s 192ms/step - loss: 0.4705 - accuracy: 0.8336 - val_loss: 0.6376 - val_accuracy: 0.7620\n",
      "Epoch 21/100\n",
      "11/11 [==============================] - 2s 194ms/step - loss: 0.4634 - accuracy: 0.8365 - val_loss: 0.6325 - val_accuracy: 0.7729\n",
      "Epoch 22/100\n",
      "11/11 [==============================] - 2s 193ms/step - loss: 0.4567 - accuracy: 0.8361 - val_loss: 0.6355 - val_accuracy: 0.7751\n",
      "Epoch 23/100\n",
      "11/11 [==============================] - 2s 192ms/step - loss: 0.4575 - accuracy: 0.8365 - val_loss: 0.6351 - val_accuracy: 0.7718\n",
      "Epoch 24/100\n",
      "11/11 [==============================] - 2s 193ms/step - loss: 0.4464 - accuracy: 0.8390 - val_loss: 0.6648 - val_accuracy: 0.7631\n",
      "Epoch 25/100\n",
      "11/11 [==============================] - 2s 193ms/step - loss: 0.4457 - accuracy: 0.8383 - val_loss: 0.6540 - val_accuracy: 0.7642\n",
      "Epoch 26/100\n",
      "11/11 [==============================] - 2s 194ms/step - loss: 0.4403 - accuracy: 0.8427 - val_loss: 0.6300 - val_accuracy: 0.7718\n",
      "Epoch 27/100\n",
      "11/11 [==============================] - 2s 193ms/step - loss: 0.4294 - accuracy: 0.8467 - val_loss: 0.6217 - val_accuracy: 0.7762\n",
      "Epoch 28/100\n",
      "11/11 [==============================] - 2s 206ms/step - loss: 0.4231 - accuracy: 0.8518 - val_loss: 0.6136 - val_accuracy: 0.7795\n",
      "Epoch 29/100\n",
      "11/11 [==============================] - 2s 211ms/step - loss: 0.4132 - accuracy: 0.8576 - val_loss: 0.6148 - val_accuracy: 0.7762\n",
      "Epoch 30/100\n",
      "11/11 [==============================] - 2s 197ms/step - loss: 0.4122 - accuracy: 0.8540 - val_loss: 0.6098 - val_accuracy: 0.7784\n",
      "Epoch 31/100\n",
      "11/11 [==============================] - 2s 192ms/step - loss: 0.4072 - accuracy: 0.8529 - val_loss: 0.6097 - val_accuracy: 0.7751\n",
      "Epoch 32/100\n",
      "11/11 [==============================] - 2s 193ms/step - loss: 0.4000 - accuracy: 0.8609 - val_loss: 0.6084 - val_accuracy: 0.7773\n",
      "Epoch 33/100\n",
      "11/11 [==============================] - 2s 197ms/step - loss: 0.3985 - accuracy: 0.8642 - val_loss: 0.6134 - val_accuracy: 0.7784\n",
      "Epoch 34/100\n",
      "11/11 [==============================] - 2s 197ms/step - loss: 0.3934 - accuracy: 0.8605 - val_loss: 0.6164 - val_accuracy: 0.7773\n",
      "Epoch 35/100\n",
      "11/11 [==============================] - 2s 194ms/step - loss: 0.3907 - accuracy: 0.8638 - val_loss: 0.6105 - val_accuracy: 0.7795\n",
      "Epoch 36/100\n",
      "11/11 [==============================] - 2s 190ms/step - loss: 0.3863 - accuracy: 0.8704 - val_loss: 0.6081 - val_accuracy: 0.7795\n",
      "Epoch 37/100\n",
      "11/11 [==============================] - 2s 191ms/step - loss: 0.3826 - accuracy: 0.8689 - val_loss: 0.6116 - val_accuracy: 0.7795\n",
      "Epoch 38/100\n",
      "11/11 [==============================] - 2s 193ms/step - loss: 0.3807 - accuracy: 0.8678 - val_loss: 0.6127 - val_accuracy: 0.7828\n",
      "Epoch 39/100\n",
      "11/11 [==============================] - 2s 191ms/step - loss: 0.3768 - accuracy: 0.8685 - val_loss: 0.6056 - val_accuracy: 0.7817\n",
      "Epoch 40/100\n",
      "11/11 [==============================] - 2s 191ms/step - loss: 0.3730 - accuracy: 0.8733 - val_loss: 0.6097 - val_accuracy: 0.7806\n",
      "Epoch 41/100\n",
      "11/11 [==============================] - 2s 187ms/step - loss: 0.3704 - accuracy: 0.8736 - val_loss: 0.5996 - val_accuracy: 0.7828\n",
      "Epoch 42/100\n",
      "11/11 [==============================] - 2s 189ms/step - loss: 0.3643 - accuracy: 0.8714 - val_loss: 0.5998 - val_accuracy: 0.7838\n",
      "Epoch 43/100\n",
      "11/11 [==============================] - 2s 192ms/step - loss: 0.3663 - accuracy: 0.8693 - val_loss: 0.5990 - val_accuracy: 0.7849\n",
      "Epoch 44/100\n",
      "11/11 [==============================] - 2s 192ms/step - loss: 0.3634 - accuracy: 0.8711 - val_loss: 0.5984 - val_accuracy: 0.7882\n",
      "Epoch 45/100\n",
      "11/11 [==============================] - 2s 196ms/step - loss: 0.3649 - accuracy: 0.8718 - val_loss: 0.5989 - val_accuracy: 0.7871\n",
      "Epoch 46/100\n",
      "11/11 [==============================] - 2s 191ms/step - loss: 0.3581 - accuracy: 0.8758 - val_loss: 0.6215 - val_accuracy: 0.7729\n",
      "Epoch 47/100\n",
      "11/11 [==============================] - 2s 188ms/step - loss: 0.3594 - accuracy: 0.8769 - val_loss: 0.6088 - val_accuracy: 0.7817\n",
      "Epoch 48/100\n",
      "11/11 [==============================] - 2s 192ms/step - loss: 0.3567 - accuracy: 0.8725 - val_loss: 0.6137 - val_accuracy: 0.7838\n",
      "Epoch 49/100\n",
      "11/11 [==============================] - 2s 193ms/step - loss: 0.3513 - accuracy: 0.8795 - val_loss: 0.6171 - val_accuracy: 0.7784\n",
      "Epoch 50/100\n",
      "11/11 [==============================] - 2s 192ms/step - loss: 0.3438 - accuracy: 0.8835 - val_loss: 0.6089 - val_accuracy: 0.7882\n",
      "Epoch 51/100\n",
      "11/11 [==============================] - 2s 193ms/step - loss: 0.3443 - accuracy: 0.8820 - val_loss: 0.5995 - val_accuracy: 0.7871\n",
      "Epoch 52/100\n",
      "11/11 [==============================] - 2s 193ms/step - loss: 0.3359 - accuracy: 0.8798 - val_loss: 0.6030 - val_accuracy: 0.7838\n",
      "Epoch 53/100\n",
      "11/11 [==============================] - 2s 188ms/step - loss: 0.3331 - accuracy: 0.8835 - val_loss: 0.6052 - val_accuracy: 0.7849\n",
      "Epoch 54/100\n",
      "11/11 [==============================] - 2s 209ms/step - loss: 0.3299 - accuracy: 0.8849 - val_loss: 0.6062 - val_accuracy: 0.7817\n",
      "Epoch 00054: early stopping\n"
     ]
    }
   ],
   "source": [
    "feature_extractor_model = \"https://tfhub.dev/google/imagenet/efficientnet_v2_imagenet21k_b0/feature_vector/2\"\n",
    "\n",
    "pretrained_model_without_top_layer = hub.KerasLayer(\n",
    "    feature_extractor_model, input_shape=(128, 128, 3), trainable=False)\n",
    "\n",
    "\n",
    "model = tf.keras.Sequential([\n",
    "  pretrained_model_without_top_layer,\n",
    "  tf.keras.layers.Dense(5, activation = 'softmax')\n",
    "])\n",
    "\n",
    "\n",
    "model.compile(loss='categorical_crossentropy',\n",
    "              optimizer='adam',\n",
    "              metrics=['accuracy'])\n",
    "\n",
    "early_stop = EarlyStopping(monitor='val_loss', min_delta=0, patience=10, verbose=1, mode='auto')\n",
    "\n",
    "history = model.fit(X_train, y_train, validation_data = (X_test, y_test),\n",
    "                 batch_size = 256,\n",
    "                 epochs = 100,\n",
    "                 verbose = 1,\n",
    "                  callbacks=[early_stop])"
   ]
  },
  {
   "cell_type": "code",
   "execution_count": 12,
   "metadata": {},
   "outputs": [
    {
     "data": {
      "text/plain": [
       "0.8291453269434985"
      ]
     },
     "execution_count": 12,
     "metadata": {},
     "output_type": "execute_result"
    }
   ],
   "source": [
    "preds = model.predict(X_test)\n",
    "quadratic_weighted_kappa(np.argmax(y_test,axis=1), np.argmax(preds,axis=1))"
   ]
  },
  {
   "cell_type": "code",
   "execution_count": 15,
   "metadata": {},
   "outputs": [
    {
     "data": {
      "image/png": "[encoded data removed]",
      "text/plain": [
       "<Figure size 864x576 with 1 Axes>"
      ]
     },
     "metadata": {
      "needs_background": "light"
     },
     "output_type": "display_data"
    }
   ],
   "source": [
    "# Check out our train loss and test loss over epochs.\n",
    "train_loss = history.history['loss']\n",
    "test_loss = history.history['val_loss']\n",
    "epoch_labels = history.epoch\n",
    "\n",
    "# Set figure size.\n",
    "plt.figure(figsize=(12, 8))\n",
    "\n",
    "# Generate line plot of training, testing loss over epochs.\n",
    "plt.plot(train_loss, label='Training Loss', color='#185fad')\n",
    "plt.plot(test_loss, label='Testing Loss', color='orange')\n",
    "\n",
    "# Set title\n",
    "plt.title('Training and Testing Loss by Epoch, CNN1', fontsize=25)\n",
    "plt.xlabel('Epoch', fontsize=18)\n",
    "plt.ylabel('Categorical Crossentropy', fontsize=18)\n",
    "plt.xticks(epoch_labels, epoch_labels)    # ticks, labels\n",
    "\n",
    "plt.legend(fontsize=18);"
   ]
  },
  {
   "cell_type": "markdown",
   "metadata": {},
   "source": [
    "The model performs exceptionally better than our previous, built from scratch models. It quickly lowered validation loss and blew away my expectations. I believed it would do well but not this well. Despite it being trained on images unrelated to Diabetic Retinopathy, it performed the best out of all my models."
   ]
  },
  {
   "cell_type": "markdown",
   "metadata": {},
   "source": [
    "# Same Model with added Augmentation Layer"
   ]
  },
  {
   "cell_type": "code",
   "execution_count": 19,
   "metadata": {},
   "outputs": [
    {
     "name": "stdout",
     "output_type": "stream",
     "text": [
      "Epoch 1/100\n",
      "11/11 [==============================] - 5s 285ms/step - loss: 2.1400 - accuracy: 0.3521 - val_loss: 1.4734 - val_accuracy: 0.4934\n",
      "Epoch 2/100\n",
      "11/11 [==============================] - 2s 192ms/step - loss: 1.3227 - accuracy: 0.5852 - val_loss: 1.2649 - val_accuracy: 0.5404\n",
      "Epoch 3/100\n",
      "11/11 [==============================] - 2s 186ms/step - loss: 1.0085 - accuracy: 0.6537 - val_loss: 1.0773 - val_accuracy: 0.5742\n",
      "Epoch 4/100\n",
      "11/11 [==============================] - 2s 185ms/step - loss: 0.8729 - accuracy: 0.6926 - val_loss: 0.9019 - val_accuracy: 0.6725\n",
      "Epoch 5/100\n",
      "11/11 [==============================] - 2s 193ms/step - loss: 0.8012 - accuracy: 0.7185 - val_loss: 0.8309 - val_accuracy: 0.7063\n",
      "Epoch 6/100\n",
      "11/11 [==============================] - 2s 194ms/step - loss: 0.7622 - accuracy: 0.7287 - val_loss: 0.7934 - val_accuracy: 0.7151\n",
      "Epoch 7/100\n",
      "11/11 [==============================] - 2s 193ms/step - loss: 0.7122 - accuracy: 0.7393 - val_loss: 0.7749 - val_accuracy: 0.7227\n",
      "Epoch 8/100\n",
      "11/11 [==============================] - 2s 193ms/step - loss: 0.6837 - accuracy: 0.7567 - val_loss: 0.7684 - val_accuracy: 0.7238\n",
      "Epoch 9/100\n",
      "11/11 [==============================] - 2s 196ms/step - loss: 0.6827 - accuracy: 0.7516 - val_loss: 0.7392 - val_accuracy: 0.7314\n",
      "Epoch 10/100\n",
      "11/11 [==============================] - 2s 197ms/step - loss: 0.6511 - accuracy: 0.7655 - val_loss: 0.7407 - val_accuracy: 0.7325\n",
      "Epoch 11/100\n",
      "11/11 [==============================] - 2s 196ms/step - loss: 0.6391 - accuracy: 0.7760 - val_loss: 0.7203 - val_accuracy: 0.7314\n",
      "Epoch 12/100\n",
      "11/11 [==============================] - 2s 191ms/step - loss: 0.6300 - accuracy: 0.7666 - val_loss: 0.7296 - val_accuracy: 0.7347\n",
      "Epoch 13/100\n",
      "11/11 [==============================] - 2s 192ms/step - loss: 0.6190 - accuracy: 0.7764 - val_loss: 0.7227 - val_accuracy: 0.7358\n",
      "Epoch 14/100\n",
      "11/11 [==============================] - 2s 188ms/step - loss: 0.6024 - accuracy: 0.7804 - val_loss: 0.7170 - val_accuracy: 0.7369\n",
      "Epoch 15/100\n",
      "11/11 [==============================] - 2s 188ms/step - loss: 0.5978 - accuracy: 0.7837 - val_loss: 0.7006 - val_accuracy: 0.7413\n",
      "Epoch 16/100\n",
      "11/11 [==============================] - 2s 194ms/step - loss: 0.5894 - accuracy: 0.7881 - val_loss: 0.7028 - val_accuracy: 0.7369\n",
      "Epoch 17/100\n",
      "11/11 [==============================] - 2s 191ms/step - loss: 0.5921 - accuracy: 0.7753 - val_loss: 0.7018 - val_accuracy: 0.7500\n",
      "Epoch 18/100\n",
      "11/11 [==============================] - 2s 185ms/step - loss: 0.5809 - accuracy: 0.7822 - val_loss: 0.7043 - val_accuracy: 0.7489\n",
      "Epoch 19/100\n",
      "11/11 [==============================] - 2s 186ms/step - loss: 0.5753 - accuracy: 0.7895 - val_loss: 0.6884 - val_accuracy: 0.7434\n",
      "Epoch 20/100\n",
      "11/11 [==============================] - 2s 186ms/step - loss: 0.5723 - accuracy: 0.7942 - val_loss: 0.7006 - val_accuracy: 0.7445\n",
      "Epoch 21/100\n",
      "11/11 [==============================] - 2s 186ms/step - loss: 0.5621 - accuracy: 0.7910 - val_loss: 0.6855 - val_accuracy: 0.7522\n",
      "Epoch 22/100\n",
      "11/11 [==============================] - 2s 186ms/step - loss: 0.5548 - accuracy: 0.7993 - val_loss: 0.6980 - val_accuracy: 0.7478\n",
      "Epoch 23/100\n",
      "11/11 [==============================] - 2s 187ms/step - loss: 0.5414 - accuracy: 0.8004 - val_loss: 0.7030 - val_accuracy: 0.7500\n",
      "Epoch 24/100\n",
      "11/11 [==============================] - 2s 187ms/step - loss: 0.5372 - accuracy: 0.8048 - val_loss: 0.7135 - val_accuracy: 0.7478\n",
      "Epoch 25/100\n",
      "11/11 [==============================] - 2s 186ms/step - loss: 0.5401 - accuracy: 0.8048 - val_loss: 0.6800 - val_accuracy: 0.7544\n",
      "Epoch 26/100\n",
      "11/11 [==============================] - 2s 186ms/step - loss: 0.5400 - accuracy: 0.8012 - val_loss: 0.7084 - val_accuracy: 0.7489\n",
      "Epoch 27/100\n",
      "11/11 [==============================] - 2s 186ms/step - loss: 0.5312 - accuracy: 0.8063 - val_loss: 0.7049 - val_accuracy: 0.7478\n",
      "Epoch 28/100\n",
      "11/11 [==============================] - 2s 186ms/step - loss: 0.5234 - accuracy: 0.8121 - val_loss: 0.6841 - val_accuracy: 0.7522\n",
      "Epoch 29/100\n",
      "11/11 [==============================] - 2s 187ms/step - loss: 0.5175 - accuracy: 0.8157 - val_loss: 0.6737 - val_accuracy: 0.7511\n",
      "Epoch 30/100\n",
      "11/11 [==============================] - 2s 186ms/step - loss: 0.5085 - accuracy: 0.8288 - val_loss: 0.6826 - val_accuracy: 0.7598\n",
      "Epoch 31/100\n",
      "11/11 [==============================] - 2s 194ms/step - loss: 0.5163 - accuracy: 0.8125 - val_loss: 0.7232 - val_accuracy: 0.7467\n",
      "Epoch 32/100\n",
      "11/11 [==============================] - 2s 192ms/step - loss: 0.5118 - accuracy: 0.8143 - val_loss: 0.6984 - val_accuracy: 0.7544\n",
      "Epoch 33/100\n",
      "11/11 [==============================] - 2s 199ms/step - loss: 0.5087 - accuracy: 0.8197 - val_loss: 0.6924 - val_accuracy: 0.7511\n",
      "Epoch 34/100\n",
      "11/11 [==============================] - 2s 204ms/step - loss: 0.5140 - accuracy: 0.8139 - val_loss: 0.6750 - val_accuracy: 0.7489\n",
      "Epoch 35/100\n",
      "11/11 [==============================] - 2s 208ms/step - loss: 0.5027 - accuracy: 0.8143 - val_loss: 0.6642 - val_accuracy: 0.7467\n",
      "Epoch 36/100\n",
      "11/11 [==============================] - 2s 189ms/step - loss: 0.5064 - accuracy: 0.8205 - val_loss: 0.6842 - val_accuracy: 0.7587\n",
      "Epoch 37/100\n",
      "11/11 [==============================] - 2s 189ms/step - loss: 0.5115 - accuracy: 0.8168 - val_loss: 0.6903 - val_accuracy: 0.7576\n",
      "Epoch 38/100\n",
      "11/11 [==============================] - 2s 187ms/step - loss: 0.5040 - accuracy: 0.8121 - val_loss: 0.6932 - val_accuracy: 0.7489\n",
      "Epoch 39/100\n",
      "11/11 [==============================] - 2s 185ms/step - loss: 0.5055 - accuracy: 0.8139 - val_loss: 0.6818 - val_accuracy: 0.7566\n",
      "Epoch 40/100\n",
      "11/11 [==============================] - 2s 189ms/step - loss: 0.4815 - accuracy: 0.8183 - val_loss: 0.6602 - val_accuracy: 0.7598\n",
      "Epoch 41/100\n",
      "11/11 [==============================] - 2s 185ms/step - loss: 0.5021 - accuracy: 0.8227 - val_loss: 0.6568 - val_accuracy: 0.7631\n",
      "Epoch 42/100\n",
      "11/11 [==============================] - 2s 185ms/step - loss: 0.4986 - accuracy: 0.8186 - val_loss: 0.6662 - val_accuracy: 0.7587\n",
      "Epoch 43/100\n",
      "11/11 [==============================] - 2s 185ms/step - loss: 0.4974 - accuracy: 0.8212 - val_loss: 0.6638 - val_accuracy: 0.7587\n",
      "Epoch 44/100\n",
      "11/11 [==============================] - 2s 189ms/step - loss: 0.4834 - accuracy: 0.8245 - val_loss: 0.6629 - val_accuracy: 0.7576\n",
      "Epoch 45/100\n",
      "11/11 [==============================] - 2s 189ms/step - loss: 0.4814 - accuracy: 0.8150 - val_loss: 0.6630 - val_accuracy: 0.7566\n",
      "Epoch 46/100\n",
      "11/11 [==============================] - 2s 187ms/step - loss: 0.4793 - accuracy: 0.8259 - val_loss: 0.6716 - val_accuracy: 0.7587\n",
      "Epoch 47/100\n",
      "11/11 [==============================] - 2s 185ms/step - loss: 0.4760 - accuracy: 0.8328 - val_loss: 0.6643 - val_accuracy: 0.7587\n",
      "Epoch 48/100\n",
      "11/11 [==============================] - 2s 191ms/step - loss: 0.4804 - accuracy: 0.8241 - val_loss: 0.6717 - val_accuracy: 0.7620\n",
      "Epoch 49/100\n",
      "11/11 [==============================] - 2s 194ms/step - loss: 0.4741 - accuracy: 0.8314 - val_loss: 0.6835 - val_accuracy: 0.7642\n",
      "Epoch 50/100\n",
      "11/11 [==============================] - 2s 190ms/step - loss: 0.4804 - accuracy: 0.8245 - val_loss: 0.6594 - val_accuracy: 0.7707\n",
      "Epoch 51/100\n",
      "11/11 [==============================] - 2s 189ms/step - loss: 0.4852 - accuracy: 0.8267 - val_loss: 0.6626 - val_accuracy: 0.7653\n",
      "Epoch 00051: early stopping\n"
     ]
    }
   ],
   "source": [
    "tf.random.set_seed(42)\n",
    "# https://colab.research.google.com/github/lmoroney/dlaicourse/blob/master/Course%202%20-%20Part%204%20-%20Lesson%202%20-%20Notebook%20(Cats%20v%20Dogs%20Augmentation).ipynb\n",
    "data_augmentation2 = Sequential(\n",
    "  [\n",
    "    layers.experimental.preprocessing.RandomFlip(\"horizontal\", input_shape=(128,128,3)),\n",
    "    layers.experimental.preprocessing.RandomRotation(0.1),\n",
    "    layers.experimental.preprocessing.RandomZoom(0.1)\n",
    "  ]\n",
    ")\n",
    "\n",
    "\n",
    "model_taug = Sequential()\n",
    "\n",
    "model_taug.add(data_augmentation2)\n",
    "\n",
    "model_taug.add(pretrained_model_without_top_layer)\n",
    "model_taug.add(Dense(5, activation = 'softmax'))\n",
    "\n",
    "\n",
    "model_taug.compile(loss='categorical_crossentropy',\n",
    "              optimizer='adam',\n",
    "              metrics=['accuracy'])\n",
    "\n",
    "early_stop = EarlyStopping(monitor='val_loss', min_delta=0, patience=10, verbose=1, mode='auto')\n",
    "\n",
    "history_taug = model_taug.fit(X_train, y_train, validation_data = (X_test, y_test),\n",
    "                 batch_size = 256,\n",
    "                 epochs = 100,\n",
    "                 verbose = 1,\n",
    "                  callbacks=[early_stop])"
   ]
  },
  {
   "cell_type": "code",
   "execution_count": 20,
   "metadata": {},
   "outputs": [
    {
     "data": {
      "text/plain": [
       "0.7695884022047552"
      ]
     },
     "execution_count": 20,
     "metadata": {},
     "output_type": "execute_result"
    }
   ],
   "source": [
    "preds_taug = model_taug.predict(X_test)\n",
    "quadratic_weighted_kappa(np.argmax(y_test,axis=1), np.argmax(preds_taug,axis=1))"
   ]
  },
  {
   "cell_type": "markdown",
   "metadata": {},
   "source": [
    "## Conclusion"
   ]
  },
  {
   "cell_type": "markdown",
   "metadata": {},
   "source": [
    "With Augmentation, the model performed worse. However the Kappa score is still higher than my other augmented models which goes to show the power of Google's pretrained models and that of Transfer Learning. For those with less resources to classify images, Transfer Learning is a great substitute to making one's own model."
   ]
  }
 ],
 "metadata": {
  "kernelspec": {
   "display_name": "Python 3",
   "language": "python",
   "name": "python3"
  },
  "language_info": {
   "codemirror_mode": {
    "name": "ipython",
    "version": 3
   },
   "file_extension": ".py",
   "mimetype": "text/x-python",
   "name": "python",
   "nbconvert_exporter": "python",
   "pygments_lexer": "ipython3",
   "version": "3.8.5"
  }
 },
 "nbformat": 4,
 "nbformat_minor": 5
}
