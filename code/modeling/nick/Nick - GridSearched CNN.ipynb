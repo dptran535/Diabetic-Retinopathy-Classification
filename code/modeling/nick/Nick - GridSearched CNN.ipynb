{
 "cells": [
  {
   "cell_type": "code",
   "execution_count": 58,
   "id": "2927c029",
   "metadata": {},
   "outputs": [],
   "source": [
    "import pandas as pd\n",
    "import numpy as np\n",
    "import os\n",
    "import cv2\n",
    "\n",
    "import matplotlib.pyplot as plt\n",
    "from sklearn.model_selection import train_test_split, RandomizedSearchCV\n",
    "from sklearn.metrics import cohen_kappa_score\n",
    "\n",
    "from tensorflow.keras.models import Sequential\n",
    "from tensorflow.keras.layers import Dense, Flatten, Conv2D, MaxPooling2D\n",
    "from tensorflow.keras import utils\n",
    "from tensorflow.keras.datasets import mnist\n",
    "from tensorflow.keras.wrappers.scikit_learn import KerasClassifier\n",
    "from tensorflow.python.keras.backend import batch_set_value"
   ]
  },
  {
   "cell_type": "code",
   "execution_count": 6,
   "id": "97d295c7",
   "metadata": {},
   "outputs": [],
   "source": [
    "loaded_images = np.load('images.npy')\n",
    "train = pd.read_csv('N:/Z Project 5/aptos2019-blindness-detection/train.csv')\n",
    "\n",
    "X = loaded_images\n",
    "y = train['diagnosis']\n",
    "X_train, X_test, y_train, y_test = train_test_split(X, y, random_state = 42, stratify=y)\n",
    "\n",
    "X_train = X_train.astype('float32')/255\n",
    "X_test = X_test.astype('float32')/255\n",
    "\n",
    "y_train = utils.to_categorical(y_train, 5)\n",
    "y_test = utils.to_categorical(y_test, 5)"
   ]
  },
  {
   "cell_type": "code",
   "execution_count": 47,
   "id": "18b7058b",
   "metadata": {},
   "outputs": [
    {
     "name": "stdout",
     "output_type": "stream",
     "text": [
      "Epoch 1/10\n",
      "11/11 [==============================] - 15s 1s/step - loss: 1.2413 - accuracy: 0.4873 - val_loss: 1.0078 - val_accuracy: 0.6856\n",
      "Epoch 2/10\n",
      "11/11 [==============================] - 14s 1s/step - loss: 0.9080 - accuracy: 0.6773 - val_loss: 0.8738 - val_accuracy: 0.6965\n",
      "Epoch 3/10\n",
      "11/11 [==============================] - 15s 1s/step - loss: 0.8164 - accuracy: 0.7007 - val_loss: 0.8212 - val_accuracy: 0.7041\n",
      "Epoch 4/10\n",
      "11/11 [==============================] - 15s 1s/step - loss: 0.7726 - accuracy: 0.7265 - val_loss: 0.8134 - val_accuracy: 0.7074\n",
      "Epoch 5/10\n",
      "11/11 [==============================] - 14s 1s/step - loss: 0.7471 - accuracy: 0.7243 - val_loss: 0.7834 - val_accuracy: 0.7172\n",
      "Epoch 6/10\n",
      "11/11 [==============================] - 15s 1s/step - loss: 0.7332 - accuracy: 0.7385 - val_loss: 0.7619 - val_accuracy: 0.7238\n",
      "Epoch 7/10\n",
      "11/11 [==============================] - 14s 1s/step - loss: 0.7034 - accuracy: 0.7422 - val_loss: 0.7578 - val_accuracy: 0.7238\n",
      "Epoch 8/10\n",
      "11/11 [==============================] - 15s 1s/step - loss: 0.6899 - accuracy: 0.7465 - val_loss: 0.8041 - val_accuracy: 0.7238\n",
      "Epoch 9/10\n",
      "11/11 [==============================] - 15s 1s/step - loss: 0.6959 - accuracy: 0.7393 - val_loss: 0.7525 - val_accuracy: 0.7194\n",
      "Epoch 10/10\n",
      "11/11 [==============================] - 14s 1s/step - loss: 0.6749 - accuracy: 0.7560 - val_loss: 0.7605 - val_accuracy: 0.7249\n"
     ]
    }
   ],
   "source": [
    "#First Attempt 1 CNN\n",
    "cnn = Sequential()\n",
    "cnn.add(Conv2D(filters=10, kernel_size=(5,5), activation='relu', input_shape=(224,224,3)))\n",
    "cnn.add(MaxPooling2D(pool_size=(3,3)))\n",
    "cnn.add(Conv2D(16, kernel_size=(5,5), activation='relu'))\n",
    "cnn.add(MaxPooling2D(pool_size=(3,3)))\n",
    "cnn.add(Flatten())\n",
    "cnn.add(Dense(128, activation='relu')) #hidden layer 128 node\n",
    "cnn.add(Dense(32, activation='relu')) #hidden layer 32 node\n",
    "cnn.add(Dense(5, activation='softmax')) #use 10 for 0-9 digits and softmax because its a multiple classification problem\n",
    "cnn.compile(loss='categorical_crossentropy', optimizer='adam', metrics=['accuracy'])\n",
    "history = cnn.fit(X_train, y_train, validation_data=(X_test, y_test), batch_size=256, epochs=10, verbose=1)"
   ]
  },
  {
   "cell_type": "code",
   "execution_count": 48,
   "id": "74369017",
   "metadata": {},
   "outputs": [],
   "source": [
    "# # Calculate QWK on train set\n",
    "train_preds = np.argmax(cnn.predict(X_train), axis=1)\n",
    "train_score = cohen_kappa_score(np.argmax(y_train,axis=1), train_preds, weights=\"quadratic\")\n",
    "\n",
    "# Calculate QWK on test set\n",
    "test_preds = np.argmax(cnn.predict(X_test), axis=1)\n",
    "test_score = cohen_kappa_score(np.argmax(y_test,axis=1), test_preds, weights=\"quadratic\")"
   ]
  },
  {
   "cell_type": "code",
   "execution_count": 49,
   "id": "49ffd2e9",
   "metadata": {},
   "outputs": [
    {
     "name": "stdout",
     "output_type": "stream",
     "text": [
      "29/29 [==============================] - 1s 32ms/step - loss: 0.7605 - accuracy: 0.7249\n",
      "[0.7605442404747009, 0.7248908281326294]\n",
      "Training QWK: 0.7397767338971024\n",
      "Testing QWK: 0.7043214489434051\n"
     ]
    }
   ],
   "source": [
    "print(cnn.evaluate(X_test, y_test, verbose=1))\n",
    "print(f'Training QWK: {train_score}')\n",
    "print(f'Testing QWK: {test_score}')"
   ]
  },
  {
   "cell_type": "markdown",
   "id": "2b77c0bf",
   "metadata": {},
   "source": [
    "**Training accuracy of .76 and testing of .724, not bad for my first shot in the dark model. Okay testing accuracy and not very overfit. QWK of .704 leaves a lot to be desired though. Lets gridesearch to try and further tune the hyperparameters**"
   ]
  },
  {
   "cell_type": "code",
   "execution_count": 44,
   "id": "c5fccab4",
   "metadata": {},
   "outputs": [
    {
     "name": "stdout",
     "output_type": "stream",
     "text": [
      "best params: {'pool_2': (5, 5), 'pool_1': (5, 5),\n",
      "'kernel_2': (6, 6), 'kernel_1': (5, 5), 'filters': 15,\n",
      "'epochs': 20, 'dense_layer_two_neurons': 64,\n",
      "'dense_layer_one_neurons': 256, 'batch_size': 128}\n"
     ]
    }
   ],
   "source": [
    "#gridsearch 1 CNN\n",
    "def cnn_func(filters = 10, kernel_1 = (5,5), pool_1=(3,3), kernel_2=(5,5), pool_2=(3,3), dense_layer_one_neurons=8, dense_layer_two_neurons=8):\n",
    "    cnn = Sequential()\n",
    "    cnn.add(Conv2D(filters=filters, kernel_size=kernel_1, activation='relu', input_shape=(128,128,3)))\n",
    "    cnn.add(MaxPooling2D(pool_size=pool_1))\n",
    "    cnn.add(Conv2D(16, kernel_size=kernel_2, activation='relu'))\n",
    "    cnn.add(MaxPooling2D(pool_size=pool_2))\n",
    "    cnn.add(Flatten())\n",
    "    cnn.add(Dense(dense_layer_one_neurons, activation='relu')) #hidden layer 128 node\n",
    "    cnn.add(Dense(dense_layer_two_neurons, activation='relu')) #hidden layer 32 node\n",
    "    cnn.add(Dense(5, activation='softmax')) #use 10 for 0-9 digits and softmax because its a multiple classification problem\n",
    "    cnn.compile(loss='categorical_crossentropy', optimizer='adam', metrics=['accuracy'])\n",
    "    return cnn\n",
    "\n",
    "nn = KerasClassifier(build_fn=cnn_func, batch_size=512, epochs=10, verbose=1)\n",
    "\n",
    "params = {'filters':[5, 10, 15, 20],\n",
    "         'kernel_1':[(4,4), (5,5), (6,6)],\n",
    "         'pool_1':[(3,3), (4,4), (5,5)],\n",
    "         'kernel_2':[(4,4), (5,5), (6,6)],\n",
    "         'pool_2':[(3,3), (4,4), (5,5)],\n",
    "         'dense_layer_one_neurons': [32, 48, 64, 84, 128, 256],\n",
    "         'dense_layer_two_neurons': [8, 16, 32, 48, 64],\n",
    "         'batch_size': [128, 256, 512],\n",
    "         'epochs': [10, 15, 20]}\n",
    "\n",
    "grid = RandomizedSearchCV(nn, params, cv=3, n_iter=100, verbose=1)\n",
    "grid.fit(X_train, y_train)\n",
    "\n",
    "print(grid.best_params_)"
   ]
  },
  {
   "cell_type": "code",
   "execution_count": 52,
   "id": "2a7d7705",
   "metadata": {},
   "outputs": [
    {
     "name": "stdout",
     "output_type": "stream",
     "text": [
      "Epoch 1/20\n",
      "22/22 [==============================] - 15s 668ms/step - loss: 1.2517 - accuracy: 0.5015 - val_loss: 1.0597 - val_accuracy: 0.6561\n",
      "Epoch 2/20\n",
      "22/22 [==============================] - 14s 655ms/step - loss: 0.9399 - accuracy: 0.6730 - val_loss: 0.8869 - val_accuracy: 0.6747\n",
      "Epoch 3/20\n",
      "22/22 [==============================] - 14s 650ms/step - loss: 0.8347 - accuracy: 0.6992 - val_loss: 0.8116 - val_accuracy: 0.7074\n",
      "Epoch 4/20\n",
      "22/22 [==============================] - 14s 661ms/step - loss: 0.7759 - accuracy: 0.7130 - val_loss: 0.8166 - val_accuracy: 0.7074\n",
      "Epoch 5/20\n",
      "22/22 [==============================] - 15s 667ms/step - loss: 0.7324 - accuracy: 0.7334 - val_loss: 0.7717 - val_accuracy: 0.7271\n",
      "Epoch 6/20\n",
      "22/22 [==============================] - 14s 655ms/step - loss: 0.7103 - accuracy: 0.7382 - val_loss: 0.7573 - val_accuracy: 0.7238\n",
      "Epoch 7/20\n",
      "22/22 [==============================] - 14s 649ms/step - loss: 0.7124 - accuracy: 0.7480 - val_loss: 0.7829 - val_accuracy: 0.7303\n",
      "Epoch 8/20\n",
      "22/22 [==============================] - 14s 654ms/step - loss: 0.6954 - accuracy: 0.7433 - val_loss: 0.7360 - val_accuracy: 0.7293\n",
      "Epoch 9/20\n",
      "22/22 [==============================] - 14s 660ms/step - loss: 0.6677 - accuracy: 0.7491 - val_loss: 0.7409 - val_accuracy: 0.7293\n",
      "Epoch 10/20\n",
      "22/22 [==============================] - 15s 663ms/step - loss: 0.6644 - accuracy: 0.7505 - val_loss: 0.7367 - val_accuracy: 0.7325\n",
      "Epoch 11/20\n",
      "22/22 [==============================] - 14s 651ms/step - loss: 0.6543 - accuracy: 0.7542 - val_loss: 0.7170 - val_accuracy: 0.7391\n",
      "Epoch 12/20\n",
      "22/22 [==============================] - 14s 650ms/step - loss: 0.6565 - accuracy: 0.7560 - val_loss: 0.7421 - val_accuracy: 0.7227\n",
      "Epoch 13/20\n",
      "22/22 [==============================] - 14s 651ms/step - loss: 0.6238 - accuracy: 0.7644 - val_loss: 0.7183 - val_accuracy: 0.7434\n",
      "Epoch 14/20\n",
      "22/22 [==============================] - 14s 653ms/step - loss: 0.6119 - accuracy: 0.7673 - val_loss: 0.7373 - val_accuracy: 0.7347\n",
      "Epoch 15/20\n",
      "22/22 [==============================] - 14s 656ms/step - loss: 0.5872 - accuracy: 0.7768 - val_loss: 0.7279 - val_accuracy: 0.7380\n",
      "Epoch 16/20\n",
      "22/22 [==============================] - 14s 655ms/step - loss: 0.5792 - accuracy: 0.7819 - val_loss: 0.7378 - val_accuracy: 0.7336\n",
      "Epoch 17/20\n",
      "22/22 [==============================] - 15s 670ms/step - loss: 0.5647 - accuracy: 0.7884 - val_loss: 0.7178 - val_accuracy: 0.7456\n",
      "Epoch 18/20\n",
      "22/22 [==============================] - 15s 664ms/step - loss: 0.5571 - accuracy: 0.7913 - val_loss: 0.8300 - val_accuracy: 0.7227\n",
      "Epoch 19/20\n",
      "22/22 [==============================] - 15s 664ms/step - loss: 0.5663 - accuracy: 0.7844 - val_loss: 0.7006 - val_accuracy: 0.7566\n",
      "Epoch 20/20\n",
      "22/22 [==============================] - 14s 650ms/step - loss: 0.5606 - accuracy: 0.7866 - val_loss: 0.8279 - val_accuracy: 0.6932\n"
     ]
    }
   ],
   "source": [
    "#grid 1 best params CNN\n",
    "cnn1 = Sequential()\n",
    "cnn1.add(Conv2D(filters=15, kernel_size=(5,5), activation='relu', input_shape=(224,224,3)))\n",
    "cnn1.add(MaxPooling2D(pool_size=(5,5)))\n",
    "cnn1.add(Conv2D(16, kernel_size=(6,6), activation='relu'))\n",
    "cnn1.add(MaxPooling2D(pool_size=(5,5)))\n",
    "cnn1.add(Flatten())\n",
    "cnn1.add(Dense(256, activation='relu')) #hidden layer 128 node\n",
    "cnn1.add(Dense(64, activation='relu')) #hidden layer 32 node\n",
    "cnn1.add(Dense(5, activation='softmax')) #use 10 for 0-9 digits and softmax because its a multiple classification problem\n",
    "cnn1.compile(loss='categorical_crossentropy', optimizer='adam', metrics=['accuracy'])\n",
    "history1 = cnn1.fit(X_train, y_train, validation_data=(X_test, y_test), batch_size=128, epochs=20, verbose=1)"
   ]
  },
  {
   "cell_type": "code",
   "execution_count": 53,
   "id": "27255a12",
   "metadata": {},
   "outputs": [],
   "source": [
    "# # Calculate QWK on train set\n",
    "train_preds = np.argmax(cnn1.predict(X_train), axis=1)\n",
    "train_score = cohen_kappa_score(np.argmax(y_train,axis=1), train_preds, weights=\"quadratic\")\n",
    "\n",
    "# Calculate QWK on test set\n",
    "test_preds = np.argmax(cnn1.predict(X_test), axis=1)\n",
    "test_score = cohen_kappa_score(np.argmax(y_test,axis=1), test_preds, weights=\"quadratic\")"
   ]
  },
  {
   "cell_type": "code",
   "execution_count": 54,
   "id": "d39b2381",
   "metadata": {},
   "outputs": [
    {
     "name": "stdout",
     "output_type": "stream",
     "text": [
      "29/29 [==============================] - 1s 32ms/step - loss: 0.8279 - accuracy: 0.6932\n",
      "[0.8278561234474182, 0.693231463432312]\n",
      "Training QWK: 0.7661349116213768\n",
      "Testing QWK: 0.6871388441619093\n"
     ]
    }
   ],
   "source": [
    "print(cnn1.evaluate(X_test, y_test, verbose=1))\n",
    "print(f'Training QWK: {train_score}')\n",
    "print(f'Testing QWK: {test_score}')"
   ]
  },
  {
   "cell_type": "markdown",
   "id": "e9b2dc6a",
   "metadata": {},
   "source": [
    "**Training accuracy of .82 and testing of .6932, I managed to way increase my overfitness and actually decrease my testing accuracy and it took several hours to gridsearch. My QWK also decreased to a measely .687. This model is worse than my first attempt in every way. I'm going to try a different gridsearch.**"
   ]
  },
  {
   "cell_type": "code",
   "execution_count": 45,
   "id": "7c8e511a",
   "metadata": {},
   "outputs": [
    {
     "name": "stdout",
     "output_type": "stream",
     "text": [
      "grid 2 best params: {'pool_2': (6, 6), 'pool_1': (6, 6),\n",
      "'kernel_2': (7, 7), 'filter_2': 20, 'epochs': 30,\n",
      "'dense_layer_two_neurons': 128, 'dense_layer_one_neurons': 512}\n"
     ]
    }
   ],
   "source": [
    "gridsearch 2 CNN\n",
    "def cnn2_func(filter_1 = 15, filter_2=15, kernel_1 = (5,5), pool_1=(5,5), kernel_2=(6,6), pool_2=(5,5),\n",
    "            dense_layer_one_neurons=256, dense_layer_two_neurons=64):\n",
    "    cnn = Sequential()\n",
    "    cnn.add(Conv2D(filters=filter_1, kernel_size=kernel_1, activation='relu', input_shape=(120,160,3)))\n",
    "    cnn.add(MaxPooling2D(pool_size=pool_1))\n",
    "    cnn.add(Conv2D(filters=filter_2, kernel_size=kernel_2, activation='relu'))\n",
    "    cnn.add(MaxPooling2D(pool_size=pool_2))\n",
    "    cnn.add(Flatten())\n",
    "    cnn.add(Dense(dense_layer_one_neurons, activation='relu')) #hidden layer 128 node\n",
    "    cnn.add(Dense(dense_layer_two_neurons, activation='relu')) #hidden layer 32 node\n",
    "    cnn.add(Dense(5, activation='softmax')) #use 10 for 0-9 digits and softmax because its a multiple classification problem\n",
    "\n",
    "    cnn.compile(loss='categorical_crossentropy', optimizer='adam', metrics=['accuracy'])\n",
    "\n",
    "    return cnn\n",
    "\n",
    "nn2 = KerasClassifier(build_fn=cnn2_func, batch_size=128, verbose=1)\n",
    "\n",
    "params = {'pool_1':[(5,5), (6,6), (7,7)],\n",
    "         'filter_2':[10, 15, 20],\n",
    "         'kernel_2':[(6,6), (7,7), (8,8)],\n",
    "         'pool_2':[(5,5), (6,6), (7,7)],\n",
    "         'dense_layer_one_neurons': [256, 512],\n",
    "         'dense_layer_two_neurons': [64, 128, 256, 512],\n",
    "         'epochs': [20, 25, 30]}\n",
    "\n",
    "grid2 = RandomizedSearchCV(nn2, params, cv=3, n_iter=100, verbose=1)\n",
    "grid2.fit(X_train, y_train)\n",
    "\n",
    "print(grid2.best_params_)"
   ]
  },
  {
   "cell_type": "code",
   "execution_count": 36,
   "id": "539f02c9",
   "metadata": {},
   "outputs": [
    {
     "name": "stdout",
     "output_type": "stream",
     "text": [
      "Epoch 1/30\n",
      "22/22 [==============================] - 14s 634ms/step - loss: 1.2004 - accuracy: 0.5149 - val_loss: 1.0045 - val_accuracy: 0.6790\n",
      "Epoch 2/30\n",
      "22/22 [==============================] - 14s 640ms/step - loss: 0.8905 - accuracy: 0.6923 - val_loss: 0.8340 - val_accuracy: 0.6910\n",
      "Epoch 3/30\n",
      "22/22 [==============================] - 14s 633ms/step - loss: 0.8014 - accuracy: 0.7058 - val_loss: 0.8212 - val_accuracy: 0.6878\n",
      "Epoch 4/30\n",
      "22/22 [==============================] - 14s 651ms/step - loss: 0.7621 - accuracy: 0.7258 - val_loss: 0.7757 - val_accuracy: 0.7162\n",
      "Epoch 5/30\n",
      "22/22 [==============================] - 14s 647ms/step - loss: 0.7263 - accuracy: 0.7378 - val_loss: 0.8297 - val_accuracy: 0.6921\n",
      "Epoch 6/30\n",
      "22/22 [==============================] - 14s 640ms/step - loss: 0.7076 - accuracy: 0.7495 - val_loss: 0.7407 - val_accuracy: 0.7314\n",
      "Epoch 7/30\n",
      "22/22 [==============================] - 14s 637ms/step - loss: 0.6798 - accuracy: 0.7542 - val_loss: 0.7468 - val_accuracy: 0.7336\n",
      "Epoch 8/30\n",
      "22/22 [==============================] - 14s 639ms/step - loss: 0.6618 - accuracy: 0.7597 - val_loss: 0.7405 - val_accuracy: 0.7413\n",
      "Epoch 9/30\n",
      "22/22 [==============================] - 14s 647ms/step - loss: 0.6647 - accuracy: 0.7586 - val_loss: 0.7453 - val_accuracy: 0.7314\n",
      "Epoch 10/30\n",
      "22/22 [==============================] - 14s 645ms/step - loss: 0.6362 - accuracy: 0.7673 - val_loss: 0.7570 - val_accuracy: 0.7336\n",
      "Epoch 11/30\n",
      "22/22 [==============================] - 14s 645ms/step - loss: 0.6803 - accuracy: 0.7498 - val_loss: 0.7352 - val_accuracy: 0.7380\n",
      "Epoch 12/30\n",
      "22/22 [==============================] - 14s 645ms/step - loss: 0.6321 - accuracy: 0.7618 - val_loss: 0.7320 - val_accuracy: 0.7424\n",
      "Epoch 13/30\n",
      "22/22 [==============================] - 14s 641ms/step - loss: 0.5925 - accuracy: 0.7808 - val_loss: 0.7432 - val_accuracy: 0.7424\n",
      "Epoch 14/30\n",
      "22/22 [==============================] - 14s 646ms/step - loss: 0.5809 - accuracy: 0.7837 - val_loss: 0.7346 - val_accuracy: 0.7500\n",
      "Epoch 15/30\n",
      "22/22 [==============================] - 14s 649ms/step - loss: 0.5706 - accuracy: 0.7862 - val_loss: 0.7212 - val_accuracy: 0.7380\n",
      "Epoch 16/30\n",
      "22/22 [==============================] - 14s 657ms/step - loss: 0.5723 - accuracy: 0.7917 - val_loss: 0.7779 - val_accuracy: 0.7325\n",
      "Epoch 17/30\n",
      "22/22 [==============================] - 14s 651ms/step - loss: 0.5695 - accuracy: 0.7826 - val_loss: 0.7744 - val_accuracy: 0.7314\n",
      "Epoch 18/30\n",
      "22/22 [==============================] - 14s 652ms/step - loss: 0.5541 - accuracy: 0.7910 - val_loss: 0.7912 - val_accuracy: 0.7325\n",
      "Epoch 19/30\n",
      "22/22 [==============================] - 14s 647ms/step - loss: 0.5099 - accuracy: 0.8070 - val_loss: 0.7788 - val_accuracy: 0.7227\n",
      "Epoch 20/30\n",
      "22/22 [==============================] - 14s 649ms/step - loss: 0.5257 - accuracy: 0.8074 - val_loss: 0.7617 - val_accuracy: 0.7347\n",
      "Epoch 21/30\n",
      "22/22 [==============================] - 14s 653ms/step - loss: 0.4804 - accuracy: 0.8186 - val_loss: 0.7939 - val_accuracy: 0.7314\n",
      "Epoch 22/30\n",
      "22/22 [==============================] - 14s 647ms/step - loss: 0.4691 - accuracy: 0.8259 - val_loss: 0.8206 - val_accuracy: 0.7227\n",
      "Epoch 23/30\n",
      "22/22 [==============================] - 14s 652ms/step - loss: 0.4684 - accuracy: 0.8281 - val_loss: 0.7993 - val_accuracy: 0.7314\n",
      "Epoch 24/30\n",
      "22/22 [==============================] - 14s 647ms/step - loss: 0.4333 - accuracy: 0.8398 - val_loss: 0.8976 - val_accuracy: 0.7074\n",
      "Epoch 25/30\n",
      "22/22 [==============================] - 14s 647ms/step - loss: 0.4344 - accuracy: 0.8354 - val_loss: 0.8260 - val_accuracy: 0.7380\n",
      "Epoch 26/30\n",
      "22/22 [==============================] - 14s 653ms/step - loss: 0.3977 - accuracy: 0.8511 - val_loss: 0.8847 - val_accuracy: 0.7096\n",
      "Epoch 27/30\n",
      "22/22 [==============================] - 14s 650ms/step - loss: 0.3925 - accuracy: 0.8449 - val_loss: 0.8575 - val_accuracy: 0.7391\n",
      "Epoch 28/30\n",
      "22/22 [==============================] - 14s 645ms/step - loss: 0.3583 - accuracy: 0.8685 - val_loss: 0.9435 - val_accuracy: 0.7445\n",
      "Epoch 29/30\n",
      "22/22 [==============================] - 14s 647ms/step - loss: 0.3378 - accuracy: 0.8725 - val_loss: 0.9176 - val_accuracy: 0.7303\n",
      "Epoch 30/30\n",
      "22/22 [==============================] - 14s 641ms/step - loss: 0.3187 - accuracy: 0.8838 - val_loss: 0.9757 - val_accuracy: 0.7260\n"
     ]
    }
   ],
   "source": [
    "cnn2 = Sequential()\n",
    "cnn2.add(Conv2D(filters=15, kernel_size=(5,5), activation='relu', input_shape=(224,224,3)))\n",
    "cnn2.add(MaxPooling2D(pool_size=(6,6)))\n",
    "cnn2.add(Conv2D(20, kernel_size=(7,7), activation='relu'))\n",
    "cnn2.add(MaxPooling2D(pool_size=(6,6)))\n",
    "cnn2.add(Flatten())\n",
    "cnn2.add(Dense(512, activation='relu'))\n",
    "cnn2.add(Dense(128, activation='relu'))\n",
    "cnn2.add(Dense(5, activation='softmax'))\n",
    "cnn2.compile(loss='categorical_crossentropy', optimizer='adam', metrics=['accuracy'])\n",
    "history2 = cnn2.fit(X_train, y_train, validation_data=(X_test, y_test), batch_size=128, epochs=30, verbose=1)"
   ]
  },
  {
   "cell_type": "code",
   "execution_count": 55,
   "id": "49909964",
   "metadata": {},
   "outputs": [],
   "source": [
    "# # Calculate QWK on train set\n",
    "train_preds = np.argmax(cnn2.predict(X_train), axis=1)\n",
    "train_score = cohen_kappa_score(np.argmax(y_train,axis=1), train_preds, weights=\"quadratic\")\n",
    "\n",
    "# Calculate QWK on test set\n",
    "test_preds = np.argmax(cnn2.predict(X_test), axis=1)\n",
    "test_score = cohen_kappa_score(np.argmax(y_test,axis=1), test_preds, weights=\"quadratic\")"
   ]
  },
  {
   "cell_type": "code",
   "execution_count": 56,
   "id": "b48f1713",
   "metadata": {},
   "outputs": [
    {
     "name": "stdout",
     "output_type": "stream",
     "text": [
      "29/29 [==============================] - 1s 32ms/step - loss: 0.9757 - accuracy: 0.7260\n",
      "[0.9756911993026733, 0.7259825468063354]\n",
      "Training QWK: 0.90883961719659\n",
      "Testing QWK: 0.7378575159846412\n"
     ]
    }
   ],
   "source": [
    "print(cnn2.evaluate(X_test, y_test, verbose=1))\n",
    "print(f'Training QWK: {train_score}')\n",
    "print(f'Testing QWK: {test_score}')"
   ]
  },
  {
   "cell_type": "markdown",
   "id": "10b7cc64",
   "metadata": {},
   "source": [
    "**Training accuracy of .97 and testing of .726. So I sacrificed major overfitting (and an 8 hour gridsearch) for a .01 increase in testing accruacy, definitely not worth it. My QWK did improve to .7379 but that still isn't very good and not worth the level of overfitting it cost me. I'm going to try an entirely different model, such as efficientnet, because clearly hyperparameters are not the answers to my problems.**"
   ]
  },
  {
   "cell_type": "code",
   "execution_count": 61,
   "id": "0f38c66c",
   "metadata": {},
   "outputs": [
    {
     "data": {
      "image/png": "[encoded data removed]",
      "text/plain": [
       "<Figure size 864x576 with 1 Axes>"
      ]
     },
     "metadata": {
      "needs_background": "light"
     },
     "output_type": "display_data"
    }
   ],
   "source": [
    "# Check out our train loss and test loss over epochs.\n",
    "train_accuracy = history2.history['accuracy']\n",
    "test_accuracy = history2.history['val_accuracy']\n",
    "\n",
    "# Generate line plot of training, testing loss over epochs.\n",
    "plt.figure(figsize=(12, 8))\n",
    "plt.plot(train_accuracy, label='Training Accuracy', color='#185fad')\n",
    "plt.plot(test_accuracy, label='Testing Accuracy', color='orange')\n",
    "plt.title('Training and Testing Accuracy by Epoch', fontsize = 25)\n",
    "plt.xlabel('Epoch', fontsize = 18)\n",
    "plt.ylabel('Categorical Crossentropy', fontsize = 18)\n",
    "plt.xticks(np.arange(30), np.arange(30))\n",
    "plt.legend(fontsize = 18);"
   ]
  },
  {
   "cell_type": "markdown",
   "id": "6fec526b",
   "metadata": {},
   "source": [
    "**As you can see from the chart above, the model begins to seriously overfit around epoch 13. Again I think I need a different approach model-wise and image augmentation-wise vice just super tuning hyperparameters.**"
   ]
  }
 ],
 "metadata": {
  "kernelspec": {
   "display_name": "Python 3 (ipykernel)",
   "language": "python",
   "name": "python3"
  },
  "language_info": {
   "codemirror_mode": {
    "name": "ipython",
    "version": 3
   },
   "file_extension": ".py",
   "mimetype": "text/x-python",
   "name": "python",
   "nbconvert_exporter": "python",
   "pygments_lexer": "ipython3",
   "version": "3.9.6"
  }
 },
 "nbformat": 4,
 "nbformat_minor": 5
}
